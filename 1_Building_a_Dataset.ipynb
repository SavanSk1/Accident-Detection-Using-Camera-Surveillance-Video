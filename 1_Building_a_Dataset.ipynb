{
 "cells": [
  {
   "cell_type": "markdown",
   "metadata": {},
   "source": [
    "## Building a Dataset\n"
   ]
  },
  {
   "cell_type": "markdown",
   "metadata": {},
   "source": [
    "## We extract the Dataset from Youtube."
   ]
  },
  {
   "cell_type": "markdown",
   "metadata": {},
   "source": [
    "### First thing we need to do is to download the candidate videos in order to process the images and homogenize the data. We used OpenCV library to extract the frames, and scikit-image to modify and resize them. Frames are converted to 640 pixels width and from colors to grayscale."
   ]
  },
  {
   "cell_type": "markdown",
   "metadata": {
    "colab_type": "text",
    "id": "E9_XGk6Gfeu-"
   },
   "source": [
    "<a id=\"env_setup\"> </a>\n",
    "## 1. Environment setup and library import"
   ]
  },
  {
   "cell_type": "code",
   "execution_count": 24,
   "metadata": {
    "colab": {
     "base_uri": "https://localhost:8080/",
     "height": 182
    },
    "colab_type": "code",
    "id": "wLdz8E-BZP3C",
    "outputId": "b9dd06f8-172d-4ce6-d89a-fd2bfc9ef98e"
   },
   "outputs": [
    {
     "name": "stdout",
     "output_type": "stream",
     "text": [
      "Collecting opencv-python==3.4.0.12\n",
      "\u001b[?25l  Downloading https://files.pythonhosted.org/packages/50/f9/5c454f0f52788a913979877e6ed9b2454a9c7676581a0ee3a2d81db784a6/opencv_python-3.4.0.12-cp36-cp36m-manylinux1_x86_64.whl (24.9MB)\n",
      "\u001b[K    100% |████████████████████████████████| 24.9MB 1.2MB/s \n",
      "\u001b[?25hRequirement already satisfied: numpy>=1.11.3 in /usr/local/lib/python3.6/dist-packages (from opencv-python==3.4.0.12) (1.14.6)\n",
      "Installing collected packages: opencv-python\n",
      "  Found existing installation: opencv-python 3.4.4.19\n",
      "    Uninstalling opencv-python-3.4.4.19:\n",
      "      Successfully uninstalled opencv-python-3.4.4.19\n",
      "Successfully installed opencv-python-3.4.0.12\n"
     ]
    }
   ],
   "source": [
    "!pip install --upgrade pip > /dev/null\n",
    "!pip install scikit-image==0.13.1\n",
    "!pip install opencv-python==3.4.0.12"
   ]
  },
  {
   "cell_type": "code",
   "execution_count": 0,
   "metadata": {
    "colab": {},
    "colab_type": "code",
    "id": "A7Vu1eSYey5e"
   },
   "outputs": [],
   "source": [
    "import cv2\n",
    "from skimage.color import rgb2gray\n",
    "from skimage.transform import resize\n",
    "import matplotlib.pyplot as plt\n",
    "import math"
   ]
  },
  {
   "cell_type": "markdown",
   "metadata": {
    "colab_type": "text",
    "id": "cxAIW3nO_awu"
   },
   "source": [
    "<a id=\"variables\"> </a>\n",
    "## 2. Constants and variables"
   ]
  },
  {
   "cell_type": "code",
   "execution_count": 0,
   "metadata": {
    "colab": {},
    "colab_type": "code",
    "id": "oL4fPGpuKP2m"
   },
   "outputs": [],
   "source": [
    "# Make a temporarty directory in Google colab\n",
    "!mkdir -p /content/CarCrashDetection/Sources/frames > /dev/null\n",
    "\n",
    "# Recomended to download and copy mp4 video in your Google Drive.\n",
    "# Directory tree structure in Google drive\n",
    "#      / ──┐\n",
    "#          └─ /CarCrashDetection ──┐\n",
    "#                                  ├─ videofile\n",
    "#                                  └─ /frames \n",
    "\n",
    "# copy video stored in Google Drive /CarCrashDetection/Sources/   to Colab\n",
    "!cp GDrive/My\\ Drive/CarCrashDetection/Sources/*.mp4 CarCrashDetection/Sources/"
   ]
  },
  {
   "cell_type": "code",
   "execution_count": 45,
   "metadata": {
    "colab": {
     "base_uri": "https://localhost:8080/",
     "height": 35
    },
    "colab_type": "code",
    "id": "xwVJaYVnW9bd",
    "outputId": "c47da8bb-512c-4b7d-c20e-c74b2bf2d9da"
   },
   "outputs": [
    {
     "name": "stdout",
     "output_type": "stream",
     "text": [
      "Output to be stored in /content/CarCrashDetection/Sources/frames\n"
     ]
    }
   ],
   "source": [
    "INPUT_VIDEOS_PATH = '/content/CarCrashDetection/Sources'              # Path to folder with videos \n",
    "OUTPUT_FRAMES_PATH = '/content/CarCrashDetection/Sources/frames'      # Location of extracted images\n",
    "\n",
    "frame_name = 'frame'                                                  # Frame name       \n",
    "one_frame_each = 4                                                    # Extract one frame each 70\n",
    "\n",
    "\n",
    "!if [ -d {OUTPUT_FRAMES_PATH} ]; then echo \"Output to be stored in \"{OUTPUT_FRAMES_PATH} ; else mkdir {OUTPUT_FRAMES_PATH} && echo \"Output directory created\"; fi\n",
    "\n",
    "files = !ls {INPUT_VIDEOS_PATH}/*.mp4                                 # Video file names in INPUT VIDEOS PATH\n",
    "videofile = files[0]                                                  # Refactor of variable 'files' to convert the first video of list "
   ]
  },
  {
   "cell_type": "markdown",
   "metadata": {
    "colab_type": "text",
    "id": "ol7vkvGijGUZ"
   },
   "source": [
    "<a id=\"video_frame\"> </a>\n",
    "## 3. Transform videos to frames"
   ]
  },
  {
   "cell_type": "code",
   "execution_count": 46,
   "metadata": {
    "colab": {
     "base_uri": "https://localhost:8080/",
     "height": 35
    },
    "colab_type": "code",
    "id": "TEyu5N0u7GWi",
    "outputId": "9ad498db-653b-4186-89c3-89c1d89d84e0"
   },
   "outputs": [
    {
     "name": "stdout",
     "output_type": "stream",
     "text": [
      "**************************************"
     ]
    }
   ],
   "source": [
    "count = 0\n",
    "success = True\n",
    "\n",
    "vidcap = cv2.VideoCapture(videofile)\n",
    "\n",
    "while success:\n",
    "    if (count%one_frame_each == 0):                                   # checks frame number and keeps one_frame_each          \n",
    "        success,image = vidcap.read()                                 # reads next frame           \n",
    "        image_gray = rgb2gray(image)                                  # grayscale image\n",
    "        if image.shape[1]>640:                                        # if image width > 640, resize it\n",
    "          tmp = resize(image_gray, (math.floor(640 / image_gray.shape[1] * image_gray.shape[0]), 640),mode='constant')\n",
    "        plt.imsave(\"%s/%s%d.png\" % (OUTPUT_FRAMES_PATH,frame_name, count), tmp, cmap= plt.cm.gray) # saves images to frame folder\n",
    "        print ('*', end=\"\")\n",
    "    else:\n",
    "        success,image = vidcap.read()                                 # reads next frame\n",
    "    count += 1                                                        # loops counter"
   ]
  },
  {
   "cell_type": "code",
   "execution_count": 0,
   "metadata": {
    "colab": {},
    "colab_type": "code",
    "id": "jZpRHXCXG_2f"
   },
   "outputs": [],
   "source": [
    "!cp CarCrashDetection/Sources/frames/* GDrive/My\\ Drive/CarCrashDetection/Sources/frames"
   ]
  },
  {
   "cell_type": "code",
   "execution_count": 52,
   "metadata": {
    "colab": {
     "base_uri": "https://localhost:8080/",
     "height": 146
    },
    "colab_type": "code",
    "id": "OXuE6GeKOGKz",
    "outputId": "f4775b65-8ba5-4fcd-c164-9fca39b37a00"
   },
   "outputs": [
    {
     "name": "stdout",
     "output_type": "stream",
     "text": [
      "frame0.png    frame124.png  frame148.png  frame40.png  frame64.png  frame8.png\n",
      "frame100.png  frame128.png  frame16.png   frame44.png  frame68.png  frame92.png\n",
      "frame104.png  frame12.png   frame20.png   frame48.png  frame72.png  frame96.png\n",
      "frame108.png  frame132.png  frame24.png   frame4.png   frame76.png\n",
      "frame112.png  frame136.png  frame28.png   frame52.png  frame80.png\n",
      "frame116.png  frame140.png  frame32.png   frame56.png  frame84.png\n",
      "frame120.png  frame144.png  frame36.png   frame60.png  frame88.png\n"
     ]
    }
   ],
   "source": [
    "!ls GDrive/My\\ Drive/CarCrashDetection/Sources/frames"
   ]
  },
  {
   "cell_type": "code",
   "execution_count": 0,
   "metadata": {
    "colab": {},
    "colab_type": "code",
    "id": "K_GgBtQrOKdo"
   },
   "outputs": [],
   "source": []
  }
 ],
 "metadata": {
  "colab": {
   "collapsed_sections": [],
   "include_colab_link": true,
   "name": "1_Building_a_Dataset.ipynb",
   "provenance": [],
   "version": "0.3.2"
  },
  "kernelspec": {
   "display_name": "Python 3",
   "language": "python",
   "name": "python3"
  }
 },
 "nbformat": 4,
 "nbformat_minor": 1
}
