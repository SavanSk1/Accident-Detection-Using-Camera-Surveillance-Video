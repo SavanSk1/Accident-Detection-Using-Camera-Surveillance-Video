{
 "cells": [
  {
   "cell_type": "markdown",
   "metadata": {
    "colab_type": "text",
    "id": "BQrxFUAJ_g-A"
   },
   "source": [
    "# Dataset preparation\n",
    "\n",
    "Once images are processed, starts the tough task which is visualize and clasify the images.\n",
    "Images should be stored manually in two folders accidents and no-accidents\n",
    "\n",
    "When images are allocated in the right folder, it is time to run the next module '2_Dataset_preparation' to:\n",
    "\n",
    "Split the supervised images in two groups, one for train and another for valid which each contains images of accidents and no-accidents. The module splits them randomly and does data augmentation of accident images (which are fewer than no-accident). \n",
    "\n",
    "It splits in train (80% of supervised image set) and valid (20% of supervised image set).\n",
    "\n",
    "\n",
    "\n"
   ]
  },
  {
   "cell_type": "markdown",
   "metadata": {
    "colab_type": "text",
    "id": "hFC5eO7Tx2Km"
   },
   "source": [
    "<a id=\"env_setup\"> </a>\n",
    "## 1. Environment setup and library import"
   ]
  },
  {
   "cell_type": "code",
   "execution_count": 0,
   "metadata": {
    "colab": {},
    "colab_type": "code",
    "id": "dDCkjdq0X763"
   },
   "outputs": [],
   "source": [
    "import random                           # Generates random numbers\n",
    "import os                               # Create directories, list files\n",
    "from shutil import copyfile             # Copy files from Source to Destination\n",
    "import cv2                              # To flip images in data augmentation\n",
    "import matplotlib.pyplot as plt         # To save the images\n",
    "import matplotlib.image as mpimg"
   ]
  },
  {
   "cell_type": "markdown",
   "metadata": {
    "colab_type": "text",
    "id": "cxAIW3nO_awu"
   },
   "source": [
    "<a id=\"folders_setup\"> </a>\n",
    "## 2. Folder checking and creation\n",
    "\n",
    "Checks if folder layout exist, deletes content, creates if necessary.\n",
    "    - Train -- accident\n",
    "            -- no_accident\n",
    "    - Valid -- accident\n",
    "            -- no_accident\n",
    "    - tmp\n",
    "\n"
   ]
  },
  {
   "cell_type": "code",
   "execution_count": 0,
   "metadata": {
    "colab": {},
    "colab_type": "code",
    "id": "BL4cOzh0ix9F"
   },
   "outputs": [],
   "source": [
    "!if [ -d 'GDrive/My Drive/CarCrashDetection/Dataset/train' ]; then echo \"Directory train already exist\" ; else mkdir 'GDrive/My Drive/CarCrashDetection/Dataset/train' && echo \"Directory train created\"; fi\n",
    "!if [ -d 'GDrive/My Drive/CarCrashDetection/Dataset/valid' ]; then echo \"Directory valid already exist\" ; else mkdir 'GDrive/My Drive/CarCrashDetection/Dataset/valid' && echo \"Directory valid created\"; fi\n",
    "!if [ -d 'GDrive/My Drive/CarCrashDetection/Dataset/tmp' ]; then echo \"Directory tmp already exist\" ; else mkdir 'GDrive/My Drive/CarCrashDetection/Dataset/tmp' && echo \"Directory tmp created\"; fi\n",
    "print (\"\")\n",
    "print (os.listdir(\"GDrive/My Drive/CarCrashDetection/Dataset/\"))\n",
    "print (\"\")\n",
    "!if [ -d 'GDrive/My Drive/CarCrashDetection/Dataset/train/accident' ]; then echo \"Directory accident in train already exist\" ; else mkdir 'GDrive/My Drive/CarCrashDetection/Dataset/train/accident' && echo \"Directory accident in train created\"; fi\n",
    "!if [ -d 'GDrive/My Drive/CarCrashDetection/Dataset/train/no_accident' ]; then echo \"Directory no_accident in train already exist\" ; else mkdir 'GDrive/My Drive/CarCrashDetection/Dataset/train/no_accident' && echo \"Directory no_accident in train created\"; fi\n",
    "!if [ -d 'GDrive/My Drive/CarCrashDetection/Dataset/valid/accident' ]; then echo \"Directory accident in valid already exist\" ; else mkdir 'GDrive/My Drive/CarCrashDetection/Dataset/valid/accident' && echo \"Directory accident in valid created\"; fi\n",
    "!if [ -d 'GDrive/My Drive/CarCrashDetection/Dataset/valid/no_accident' ]; then echo \"Directory no_accident in valid already exist\" ; else mkdir 'GDrive/My Drive/CarCrashDetection/Dataset/valid/no_accident' && echo \"Directory no_accident in valid created\"; fi\n",
    "print (\"\")\n",
    "print (\"Deleting folder content train accident\")\n",
    "!rm GDrive/My\\ Drive/CarCrashDetection/Dataset/train/accident/* > /dev/null\n",
    "print (\"Deleting folder content train no_accident\")\n",
    "!rm GDrive/My\\ Drive/CarCrashDetection/Dataset/train/no_accident/* > /dev/null\n",
    "print (\"Deleting folder content valid accident\")\n",
    "!rm GDrive/My\\ Drive/CarCrashDetection/Dataset/valid/accident/* > /dev/null\n",
    "print (\"Deleting folder content valid no_accident\")\n",
    "!rm GDrive/My\\ Drive/CarCrashDetection/Dataset/valid/no_accident/* > /dev/null"
   ]
  },
  {
   "cell_type": "markdown",
   "metadata": {
    "colab_type": "text",
    "id": "yLjBG9kikDZ_"
   },
   "source": [
    "```\n",
    "./dataset    \n",
    "│\n",
    "└─── models\n",
    "│\n",
    "└─── train      (80% of supervised image set)\n",
    "│   └─  accident\n",
    "│   │    └─ frame001.png\n",
    "│   │       frame002.png\n",
    "│   └─  no_accident\n",
    "│        └─ frame001.png\n",
    "│           frame002.png\n",
    "│\n",
    "└─── valid     (20% of supervised image set)\n",
    "     └─  accident\n",
    "     │    └─ frame001.png\n",
    "     │       frame002.png\n",
    "     └─  no_accident\n",
    "          └─ frame001.png\n",
    "             frame002.png\n",
    "\n",
    "```"
   ]
  },
  {
   "cell_type": "markdown",
   "metadata": {
    "colab_type": "text",
    "id": "L02xTndvkLPv"
   },
   "source": [
    "From CarCrashDetection/Sources/Frames , copy images 80 % to train (accident & no_accident) and 20% to valid (accident & no_accident)"
   ]
  },
  {
   "cell_type": "code",
   "execution_count": 0,
   "metadata": {
    "colab": {},
    "colab_type": "code",
    "id": "6avtSXGjkHy_"
   },
   "outputs": [],
   "source": [
    "PATH = 'GDrive/My\\ Drive/CarCrashDetection/Sources/frames'\n",
    "filenames_accident = os.listdir (\"GDrive/My Drive/CarCrashDetection/Sources/frames/accident\")\n",
    "\n",
    "print (os.listdir('GDrive/My Drive/CarCrashDetection/Sources/frames'))\n",
    "num_accident = len(filenames_accident)\n",
    "filenames_no_accident = os.listdir (\"GDrive/My Drive/CarCrashDetection/Sources/frames/no_accident\")\n",
    "num_no_accident = len(filenames_no_accident)\n",
    "\n",
    "print (\"Total images with accident \", num_accident)\n",
    "print (\"Total images without accident \", num_no_accident)"
   ]
  },
  {
   "cell_type": "markdown",
   "metadata": {
    "colab_type": "text",
    "id": "QdlJmhlfX9PX"
   },
   "source": [
    "<a id=\"data_augmentation\"> </a>\n",
    "## 3.  Data augmentation of accident images set\n",
    "\n",
    "Simply mirror images"
   ]
  },
  {
   "cell_type": "code",
   "execution_count": 0,
   "metadata": {
    "colab": {},
    "colab_type": "code",
    "id": "91Up3WxeYmmC"
   },
   "outputs": [],
   "source": [
    "data_augmentation = 0\n",
    "\n",
    "if (data_augmentation == 1):\n",
    " \n",
    "  PATH_accident = PATH + \"/accident/\"\n",
    "  remove = PATH_accident+\"_flip_*\"  \n",
    "  print(\"Deleting old mirrored images\")\n",
    "  !rm {remove}\n",
    "\n",
    "  print(\"Creating new mirrored images\")\n",
    "  for fn in filenames_accident:\n",
    "    img = mpimg.imread(PATH_accident+fn)\n",
    "    rimg= cv2.flip(img,1)\n",
    "    plt.imsave(\"%s%s%s.png\" % (PATH_accident,\"_flip_\", fn[:-4]), rimg) # saves images to frame folder\n",
    "\n",
    "PATH = 'GDrive/My\\ Drive/CarCrashDetection/Sources/frames'\n",
    "filenames_accident = os.listdir (\"GDrive/My Drive/CarCrashDetection/Sources/frames/accident\")\n",
    "\n",
    "print (os.listdir('GDrive/My Drive/CarCrashDetection/Sources/frames'))\n",
    "num_accident = len(filenames_accident)\n",
    "filenames_no_accident = os.listdir (\"GDrive/My Drive/CarCrashDetection/Sources/frames/no_accident\")\n",
    "num_no_accident = len(filenames_no_accident)\n",
    "\n",
    "print (\"Total images with accident \", num_accident)\n",
    "print (\"Total images without accident \", num_no_accident)"
   ]
  },
  {
   "cell_type": "markdown",
   "metadata": {
    "colab_type": "text",
    "id": "tHR9BZyvYMgG"
   },
   "source": [
    "<a id=\"split_in_train_valid\"> </a>\n",
    "## 4.  Split dataset in train and valid randomly"
   ]
  },
  {
   "cell_type": "markdown",
   "metadata": {
    "colab_type": "text",
    "id": "Lq8-tjSBlpJK"
   },
   "source": [
    "Starting the split and copy of random images"
   ]
  },
  {
   "cell_type": "code",
   "execution_count": 0,
   "metadata": {
    "colab": {},
    "colab_type": "code",
    "id": "ziJGJ3MdkmAX"
   },
   "outputs": [],
   "source": [
    "percentage_of_train = 0.8    # 80% = 0.8\n",
    "\n",
    "def split_dataset_in_train_and_valid( filenames, percentage):\n",
    "  \n",
    "  total_images = len(filenames)\n",
    "  total_train = int(total_images * percentage_of_train)\n",
    "  \n",
    "  set_train = []\n",
    "  \n",
    "  while (len(set_train) != total_train):     \n",
    "    num_image = random.randrange(total_images)\n",
    "    if num_image not in set_train:\n",
    "      set_train.append(num_image)\n",
    "\n",
    "  set_valid = []\n",
    "  for i in range(total_images):\n",
    "    if i not in set_train:\n",
    "      set_valid.append(i)\n",
    "    \n",
    "  images_train =[]\n",
    "  for i in set_train:    \n",
    "    images_train.append(filenames[i])\n",
    "   \n",
    "  images_valid =[]\n",
    "  for i in set_valid:    \n",
    "    images_valid.append(filenames[i])\n",
    "  \n",
    "  return (images_train, images_valid)"
   ]
  },
  {
   "cell_type": "code",
   "execution_count": 0,
   "metadata": {
    "colab": {},
    "colab_type": "code",
    "id": "AiSfEEpw5Lzd"
   },
   "outputs": [],
   "source": [
    "accident_train_valid = (split_dataset_in_train_and_valid (filenames_accident , percentage_of_train))\n",
    "no_accident_train_valid = (split_dataset_in_train_and_valid (filenames_no_accident , percentage_of_train))"
   ]
  },
  {
   "cell_type": "code",
   "execution_count": 0,
   "metadata": {
    "colab": {},
    "colab_type": "code",
    "id": "jCTNS3w35Qvq"
   },
   "outputs": [],
   "source": [
    "## Copy files from sources to train\n",
    "PATH2 = \"GDrive/My\\ Drive/CarCrashDetection/Dataset/\"\n",
    "\n",
    "## copy accident train set\n",
    "print (\"Copying accident train\")\n",
    "lenght = len (accident_train_valid[0])\n",
    "for i in range(lenght):\n",
    "  src = (\"GDrive/My Drive/CarCrashDetection/Sources/frames/accident/\" + accident_train_valid[0][i])\n",
    "  dst = (\"GDrive/My Drive/CarCrashDetection/Dataset/train/accident/\" + accident_train_valid[0][i])\n",
    "  copyfile(src, dst)\n",
    "  \n",
    "train_accident = !ls {PATH2}train/accident\n",
    "print(f\"Number of train images with accident copied: {len(train_accident)}\")\n",
    "\n",
    "## copy accident valid set\n",
    "print (\"Copying accident valid\")\n",
    "lenght = len (accident_train_valid[1])\n",
    "for i in range(lenght):\n",
    "  src = (\"GDrive/My Drive/CarCrashDetection/Sources/frames/accident/\" + accident_train_valid[1][i])\n",
    "  dst = (\"GDrive/My Drive/CarCrashDetection/Dataset/valid/accident/\" + accident_train_valid[1][i])\n",
    "  copyfile(src, dst)\n",
    "  \n",
    "valid_accident = !ls {PATH2}valid/accident \n",
    "print(f\"Number of valid images with accident copied: {len(valid_accident)}\")\n",
    "\n",
    "## copy no_accident train set\n",
    "print (\"Copying no accident train\")\n",
    "lenght = len (no_accident_train_valid[0])\n",
    "for i in range(lenght):\n",
    "  src = (\"GDrive/My Drive/CarCrashDetection/Sources/frames/no_accident/\" + no_accident_train_valid[0][i])\n",
    "  dst = (\"GDrive/My Drive/CarCrashDetection/Dataset/train/no_accident/\" + no_accident_train_valid[0][i])\n",
    "  copyfile(src, dst)\n",
    "\n",
    "train_no_accident = !ls {PATH2}train/no_accident\n",
    "print(f\"Number of train images with no_accident copied: {len(train_no_accident)}\")\n",
    "\n",
    "## copy accident valid set\n",
    "print (\"Copying no accident valid\")\n",
    "lenght = len (no_accident_train_valid[1])\n",
    "for i in range(lenght):\n",
    "  src = (\"GDrive/My Drive/CarCrashDetection/Sources/frames/no_accident/\" + no_accident_train_valid[1][i])\n",
    "  dst = (\"GDrive/My Drive/CarCrashDetection/Dataset/valid/no_accident/\" + no_accident_train_valid[1][i])\n",
    "  copyfile(src, dst) \n",
    "  \n",
    "valid_no_accident = !ls {PATH2}valid/no_accident\n",
    "print(f\"Number of valid images with no_accident copied: {len(valid_no_accident)}\")"
   ]
  }
 ],
 "metadata": {
  "accelerator": "GPU",
  "colab": {
   "collapsed_sections": [
    "tHR9BZyvYMgG"
   ],
   "include_colab_link": true,
   "name": "2_Dataset_preparation.ipynb",
   "provenance": [],
   "version": "0.3.2"
  },
  "kernelspec": {
   "display_name": "Python 3",
   "language": "python",
   "name": "python3"
  }
 },
 "nbformat": 4,
 "nbformat_minor": 1
}
