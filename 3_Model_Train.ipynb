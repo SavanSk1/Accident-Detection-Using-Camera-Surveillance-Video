{
 "cells": [
  {
   "cell_type": "markdown",
   "metadata": {
    "colab_type": "text",
    "id": "z1cwXZWXfJ3y"
   },
   "source": [
    "<a id=\"system_setup\"> </a>\n",
    "# 1. System setup"
   ]
  },
  {
   "cell_type": "markdown",
   "metadata": {
    "colab_type": "text",
    "id": "D10eOV4wPnZP"
   },
   "source": [
    "## 1.1 System info and check"
   ]
  },
  {
   "cell_type": "markdown",
   "metadata": {
    "colab_type": "text",
    "id": "E9_XGk6Gfeu-"
   },
   "source": [
    "GPU is required to create the model. We start checking if system has a GPU ready\n",
    "\n",
    "Checking if GPU is available.\n",
    "If error message appears, go to 'Runtime' menu in colab and in 'Change runtime type' change the hardware\n",
    "acceleration from None to GPU."
   ]
  },
  {
   "cell_type": "code",
   "execution_count": 0,
   "metadata": {
    "colab": {},
    "colab_type": "code",
    "id": "TEyu5N0u7GWi"
   },
   "outputs": [],
   "source": [
    "# Check if GPU is available\n",
    "import tensorflow as tf\n",
    "device_name = tf.test.gpu_device_name()\n",
    "if device_name != '/device:GPU:0':\n",
    "  raise SystemError('GPU device not found, to activate the GPU go to menu \"Runtime\" and submenu \"Change runtime type\", then change hardware accelerator from None to GPU.')\n",
    "print('Found GPU at: {}'.format(device_name))"
   ]
  },
  {
   "cell_type": "markdown",
   "metadata": {
    "colab_type": "text",
    "id": "6pjCRDpOhGLk"
   },
   "source": [
    "## 1.2 Install and update python libraries\n",
    "Set up of Python, installing the required modules\n",
    "<ol>\n",
    "   <li>Updated python package manager (pip)\n",
    "   <li>Torchvision\n",
    "   <li>Pillow 4.0.0 (required for fastai library)\n",
    "   <li>Image\n",
    "   <li>Fast ai\n"
   ]
  },
  {
   "cell_type": "code",
   "execution_count": 0,
   "metadata": {
    "colab": {},
    "colab_type": "code",
    "id": "Tayh7BBEfYGK"
   },
   "outputs": [],
   "source": [
    "!pip install --upgrade pip  > /dev/null\n",
    "!pip install scipy==1.0.0 > /dev/null\n",
    "!pip install http://download.pytorch.org/whl/cu75/torch-0.3.0.post4-cp36-cp36m-linux_x86_64.whl  && pip install torchvision\n",
    "#!pip install Pillow==4.0.0 > /dev/null\n",
    "!pip install Pillow==4.1.1 > /dev/null\n",
    "#!pip install PIL  > /dev/null\n",
    "!pip install image  > /dev/null\n",
    "!pip install fastai==0.7.0  > /dev/null\n",
    "!apt update && apt install -y libsm6 libxext6 > /dev/null"
   ]
  },
  {
   "cell_type": "markdown",
   "metadata": {
    "colab_type": "text",
    "id": "JfzW_sWmp39e"
   },
   "source": [
    "<a id=\"env_dataset\"> </a>\n",
    "# 2. Environment setup & dataset overview"
   ]
  },
  {
   "cell_type": "markdown",
   "metadata": {
    "colab_type": "text",
    "id": "ePZgf0VW2weC"
   },
   "source": [
    "## 2.1 Dataset location and folder check / creation\n",
    "Define the dataset location path\n"
   ]
  },
  {
   "cell_type": "code",
   "execution_count": 0,
   "metadata": {
    "colab": {},
    "colab_type": "code",
    "id": "m3RERGKc29Iu"
   },
   "outputs": [],
   "source": [
    "PATH = \"mydrive/CarCrashDetection/Dataset/\"\n",
    "!if [ -d 'mydrive/CarCrashDetection/Dataset/models' ]; then echo \"Directory models already exist\" ; else mkdir '!mkdir mydrive/CarCrashDetection/Dataset/models' && echo \"Directory models created\"; fi\n",
    "!ls {PATH}"
   ]
  },
  {
   "cell_type": "markdown",
   "metadata": {
    "colab_type": "text",
    "id": "Xfisv1ZefKnp"
   },
   "source": [
    "```\n",
    "./dataset    \n",
    "│\n",
    "└─── models\n",
    "│\n",
    "└─── train      (80% of supervised image set)\n",
    "│   └─  accident\n",
    "│   │    └─ frame001.jpg\n",
    "│   │       frame009.jpg\n",
    "│   └─  no_accident\n",
    "│        └─ frame006.jpg\n",
    "│           frame052.jpg\n",
    "│\n",
    "└─── valid     (20% of supervised image set)\n",
    "     └─  accident\n",
    "     │    └─ frame041.jpg\n",
    "     │       frame037.jpg\n",
    "     └─  no_accident\n",
    "          └─ frame025.jpg\n",
    "             frame068.jpg\n",
    "\n",
    "```"
   ]
  },
  {
   "cell_type": "markdown",
   "metadata": {
    "colab_type": "text",
    "id": "RgF4WQC9qtvo"
   },
   "source": [
    "## 2.2 Dataset overview\n",
    "Quick check of dataset\n",
    "### Number of training examples by categories"
   ]
  },
  {
   "cell_type": "code",
   "execution_count": 0,
   "metadata": {
    "colab": {},
    "colab_type": "code",
    "id": "umVXBVV3sT_C"
   },
   "outputs": [],
   "source": [
    "valid_accident = !ls {PATH}valid/accident \n",
    "valid_no_accident = !ls {PATH}valid/no_accident\n",
    "train_accident = !ls {PATH}train/accident\n",
    "train_no_accident = !ls {PATH}train/no_accident\n",
    "\n",
    "print(f\"Number of valid images with accident: {len(valid_accident)}\")\n",
    "print(f\"Number of valid images with no_accident: {len(valid_no_accident)}\")\n",
    "print(f\"Number of train images with accident: {len(train_accident)}\")\n",
    "print(f\"Number of train images with no_accident: {len(train_no_accident)}\")"
   ]
  },
  {
   "cell_type": "markdown",
   "metadata": {
    "colab_type": "text",
    "id": "kzOtCDUzX6Aa"
   },
   "source": [
    "## 2.3 Quick look a no_accident image"
   ]
  },
  {
   "cell_type": "code",
   "execution_count": 0,
   "metadata": {
    "colab": {},
    "colab_type": "code",
    "id": "Jr9vBFxh3apG"
   },
   "outputs": [],
   "source": [
    "import matplotlib.pyplot as plt\n",
    "files = !ls {PATH}valid/no_accident | head\n",
    "img = plt.imread(f'{PATH}valid/no_accident/{files[5]}')\n",
    "plt.imshow(img);\n",
    "img.shape"
   ]
  },
  {
   "cell_type": "markdown",
   "metadata": {
    "colab_type": "text",
    "id": "HfakcuIMrHXy"
   },
   "source": [
    "<a id=\"GPU_RAM\"> </a>\n",
    "# 3. Checking RAM available in GPU"
   ]
  },
  {
   "cell_type": "markdown",
   "metadata": {
    "colab_type": "text",
    "id": "P787R4Wj5gve"
   },
   "source": [
    "## 3.1 Checking system configuration and RAM memory available\n",
    "The system should have enough RAM to create the model, let's go to check it."
   ]
  },
  {
   "cell_type": "code",
   "execution_count": 0,
   "metadata": {
    "colab": {},
    "colab_type": "code",
    "id": "Y961g8x-311-"
   },
   "outputs": [],
   "source": [
    "# memory footprint support libraries/code\n",
    "!ln -sf /opt/bin/nvidia-smi /usr/bin/nvidia-smi\n",
    "!pip install gputil  > /dev/null\n",
    "!pip install psutil  > /dev/null\n",
    "!pip install humanize  > /dev/null"
   ]
  },
  {
   "cell_type": "code",
   "execution_count": 0,
   "metadata": {
    "colab": {},
    "colab_type": "code",
    "id": "JCylTU9XHJbk"
   },
   "outputs": [],
   "source": [
    "import psutil\n",
    "import humanize\n",
    "import os\n",
    "import GPUtil as GPU"
   ]
  },
  {
   "cell_type": "code",
   "execution_count": 0,
   "metadata": {
    "colab": {},
    "colab_type": "code",
    "id": "6yJnElXC342M"
   },
   "outputs": [],
   "source": [
    "GPUs = GPU.getGPUs()\n",
    "# XXX: only one GPU on Colab and isn't guaranteed\n",
    "gpu = GPUs[0]\n",
    "\n",
    "def printm():\n",
    "  process = psutil.Process(os.getpid())\n",
    "  print(\"Gen RAM Free: \" + humanize.naturalsize( psutil.virtual_memory().available ), \" I Proc size: \" + humanize.naturalsize( process.memory_info().rss))\n",
    "  print('GPU RAM Free: {0:.0f}MB | Used: {1:.0f}MB | Util {2:3.0f}% | Total {3:.0f}MB'.format(gpu.memoryFree, gpu.memoryUsed, gpu.memoryUtil*100, gpu.memoryTotal))\n",
    "printm()"
   ]
  },
  {
   "cell_type": "markdown",
   "metadata": {
    "colab_type": "text",
    "id": "Fqe2HRtyyoCg"
   },
   "source": [
    "## 3.2 If GPU RAM free is lower than 600Mb, uncomment  ! pkill python3"
   ]
  },
  {
   "cell_type": "code",
   "execution_count": 0,
   "metadata": {
    "colab": {},
    "colab_type": "code",
    "id": "LKdCqBYAyiMs"
   },
   "outputs": [],
   "source": [
    "#@title\n",
    "# Uncomment the below if you need to reset GPU to recover RAM\n",
    "! pkill python3"
   ]
  },
  {
   "cell_type": "markdown",
   "metadata": {
    "colab_type": "text",
    "id": "G4q8BO1oXi9f"
   },
   "source": [
    "<a id=\"model_training\"> </a>\n",
    "# 4. Model training"
   ]
  },
  {
   "cell_type": "markdown",
   "metadata": {
    "colab_type": "text",
    "id": "17n4gl6ivC7c"
   },
   "source": [
    "Building a successful neural network is an iterative process. We shouldn't expect to come up with a magical idea that will make a great network from the start. "
   ]
  },
  {
   "cell_type": "code",
   "execution_count": 0,
   "metadata": {
    "colab": {},
    "colab_type": "code",
    "id": "iPU3okrr3ram"
   },
   "outputs": [],
   "source": [
    "# Uncomment the below if you need to reset your precomputed activations\n",
    "#!rm -rf {PATH}tmp"
   ]
  },
  {
   "cell_type": "markdown",
   "metadata": {
    "colab_type": "text",
    "id": "Xu8zvCO4Hx9n"
   },
   "source": [
    "## 4.1 Load libraries\n",
    "Import the fastai library"
   ]
  },
  {
   "cell_type": "code",
   "execution_count": 0,
   "metadata": {
    "colab": {},
    "colab_type": "code",
    "id": "x40GwEVkzF0k"
   },
   "outputs": [],
   "source": [
    "# Put these at the top of every notebook, to get automatic reloading and inline plotting\n",
    "%reload_ext autoreload\n",
    "%autoreload 2\n",
    "%matplotlib inline"
   ]
  },
  {
   "cell_type": "code",
   "execution_count": 0,
   "metadata": {
    "colab": {},
    "colab_type": "code",
    "id": "qVlyBw8yzHNz"
   },
   "outputs": [],
   "source": [
    "# This file contains all the main libs we'll use\n",
    "from fastai.imports import *\n",
    "from fastai.transforms import *\n",
    "from fastai.conv_learner import *\n",
    "from fastai.model import *\n",
    "from fastai.dataset import *\n",
    "from fastai.sgdr import *\n",
    "from fastai.plots import *"
   ]
  },
  {
   "cell_type": "code",
   "execution_count": 0,
   "metadata": {
    "colab": {},
    "colab_type": "code",
    "id": "zDyv5WT3xv05"
   },
   "outputs": [],
   "source": [
    "PATH = \"mydrive/CarCrashDetection/Dataset/\"      # Use the same PATH than Environment Setup"
   ]
  },
  {
   "cell_type": "markdown",
   "metadata": {
    "colab_type": "text",
    "id": "0n_coMJHvX8i"
   },
   "source": [
    "## 4.2  Architecture\n",
    "The chosen architecture is resnet34, it comes pretrained with a huge imagenet dataset and it's not too complex."
   ]
  },
  {
   "cell_type": "code",
   "execution_count": 0,
   "metadata": {
    "colab": {},
    "colab_type": "code",
    "id": "JINcvZNIvkHo"
   },
   "outputs": [],
   "source": [
    "arch = resnet34"
   ]
  },
  {
   "cell_type": "markdown",
   "metadata": {
    "colab_type": "text",
    "id": "V489D1fOveaC"
   },
   "source": [
    "## 4.3  Size\n",
    "Resnet34 was trained on mostly 224·224 to 299·299 images sizes. For that reason, transforming the training images to that size should result in decent result.\n",
    "\n",
    "-  Size can be reduced to minimize that the resnet will runtime error on Colab due to gpu memory shortage"
   ]
  },
  {
   "cell_type": "code",
   "execution_count": 0,
   "metadata": {
    "colab": {},
    "colab_type": "code",
    "id": "tsslJTftvuoa"
   },
   "outputs": [],
   "source": [
    "size = 299"
   ]
  },
  {
   "cell_type": "markdown",
   "metadata": {
    "colab_type": "text",
    "id": "mgMfqf-CwFnj"
   },
   "source": [
    "## 4.4 Batch size\n",
    "Batch size defines how many images we take to compute the approximated gradient for stochastic gradient descent.<br>\n",
    "If it's too big it will take a long time to converge and if it's to small the predictions won't be precise enough and it may not converge.<br>\n",
    "For what I've seen, 64 seems like a reasonable choice."
   ]
  },
  {
   "cell_type": "code",
   "execution_count": 0,
   "metadata": {
    "colab": {},
    "colab_type": "code",
    "id": "2MTb_i3RwOsy"
   },
   "outputs": [],
   "source": [
    "batch_size = 60"
   ]
  },
  {
   "cell_type": "markdown",
   "metadata": {
    "colab_type": "text",
    "id": "N_RRHvTH3vgw"
   },
   "source": [
    "## 4.5 Image classification with Convolutional Neural Networks\n"
   ]
  },
  {
   "cell_type": "code",
   "execution_count": 0,
   "metadata": {
    "colab": {},
    "colab_type": "code",
    "id": "iLtFUi5u3-qC"
   },
   "outputs": [],
   "source": [
    "data = ImageClassifierData.from_paths(PATH, tfms=tfms_from_model(arch, size), bs=batch_size)\n",
    "try:\n",
    "  learn = ConvLearner.pretrained(arch, data, precompute=True)                   # Colab generates a \"runtime error due to gpu memory shortage\" and pretrain can not finalize\n",
    "except:\n",
    "  learn = ConvLearner.pretrained(arch, data, precompute=True)                   # Launched again, it will continue and will finalize pretrain properly\n",
    "\n",
    "## If error pops up, run again this line again. It's probably due to long processing time required or gpu memory shortage."
   ]
  },
  {
   "cell_type": "markdown",
   "metadata": {
    "colab_type": "text",
    "id": "gkokJ2EXYSfi"
   },
   "source": [
    "## 4.6 Model creation"
   ]
  },
  {
   "cell_type": "code",
   "execution_count": 0,
   "metadata": {
    "colab": {},
    "colab_type": "code",
    "id": "uEWpE65jOzfB"
   },
   "outputs": [],
   "source": [
    "epoch = 5\n",
    "learn.fit(0.01, epoch )\n",
    "\n",
    "import time\n",
    "hora = time.strftime(\"%y%m%d-%H%M\")\n",
    "print (\"Size = \" + str(size))\n",
    "print (\"Batch size = \" + str(batch_size))\n",
    "model_name = \"carCrash\" + hora +\"_sz\"+str(size)+\"_bs\"+str(batch_size)+\"_ep\"+str(epoch)\n",
    "print (\"Saving model as:\", model_name, \".h5\")\n",
    "learn.save(model_name)\n",
    "print (\"Model saved successfully\")"
   ]
  },
  {
   "cell_type": "markdown",
   "metadata": {
    "colab_type": "text",
    "id": "bI48GlDZYYjg"
   },
   "source": [
    "<a id=\"model_analysis\"> </a>\n",
    "# 5. Model analysis"
   ]
  },
  {
   "cell_type": "code",
   "execution_count": 0,
   "metadata": {
    "colab": {},
    "colab_type": "code",
    "id": "ekGxdhXU4GxO"
   },
   "outputs": [],
   "source": [
    "# This is the label for a val data\n",
    "data.val_y"
   ]
  },
  {
   "cell_type": "code",
   "execution_count": 0,
   "metadata": {
    "colab": {},
    "colab_type": "code",
    "id": "tPy0mm1-PJbs"
   },
   "outputs": [],
   "source": [
    "# from here we know that 'accident' is label 0 and 'no_accident' is label 1.\n",
    "data.classes"
   ]
  },
  {
   "cell_type": "code",
   "execution_count": 0,
   "metadata": {
    "colab": {},
    "colab_type": "code",
    "id": "5Aaz4kpmQxuc"
   },
   "outputs": [],
   "source": [
    "# this gives prediction for validation set. Predictions are in log scale\n",
    "log_preds = learn.predict()\n",
    "log_preds.shape"
   ]
  },
  {
   "cell_type": "code",
   "execution_count": 0,
   "metadata": {
    "colab": {},
    "colab_type": "code",
    "id": "7VvERJ6DZTCC"
   },
   "outputs": [],
   "source": [
    "log_preds[:10]"
   ]
  },
  {
   "cell_type": "code",
   "execution_count": 0,
   "metadata": {
    "colab": {},
    "colab_type": "code",
    "id": "nlKPjJSqZUMk"
   },
   "outputs": [],
   "source": [
    "preds = np.argmax(log_preds, axis=1)  # from log probabilities to 0 or 1\n",
    "probs = np.exp(log_preds[:,1])        # pr(no_accident)"
   ]
  },
  {
   "cell_type": "code",
   "execution_count": 0,
   "metadata": {
    "colab": {},
    "colab_type": "code",
    "id": "Jpk5zOBdZWec"
   },
   "outputs": [],
   "source": [
    "def rand_by_mask(mask): return np.random.choice(np.where(mask)[0], 4, replace=False)\n",
    "def rand_by_correct(is_correct): return rand_by_mask((preds == data.val_y)==is_correct)"
   ]
  },
  {
   "cell_type": "code",
   "execution_count": 0,
   "metadata": {
    "colab": {},
    "colab_type": "code",
    "id": "aX01xucEZZlS"
   },
   "outputs": [],
   "source": [
    "def plot_val_with_title(idxs, title):\n",
    "    imgs = np.stack([data.val_ds[x][0] for x in idxs])\n",
    "    title_probs = [probs[x] for x in idxs]\n",
    "    print(title)\n",
    "    return plots(data.val_ds.denorm(imgs), rows=1, titles=title_probs)"
   ]
  },
  {
   "cell_type": "code",
   "execution_count": 0,
   "metadata": {
    "colab": {},
    "colab_type": "code",
    "id": "rS5uJhokZcNK"
   },
   "outputs": [],
   "source": [
    "def plots(ims, figsize=(12,6), rows=1, titles=None):\n",
    "    f = plt.figure(figsize=figsize)\n",
    "    for i in range(len(ims)):\n",
    "        sp = f.add_subplot(rows, len(ims)//rows, i+1)\n",
    "        sp.axis('Off')\n",
    "        if titles is not None: sp.set_title(titles[i], fontsize=16)\n",
    "        plt.imshow(ims[i])"
   ]
  },
  {
   "cell_type": "code",
   "execution_count": 0,
   "metadata": {
    "colab": {},
    "colab_type": "code",
    "id": "V--LnF5HZelw"
   },
   "outputs": [],
   "source": [
    "def load_img_id(ds, idx): return np.array(PIL.Image.open(PATH+ds.fnames[idx]))\n",
    "\n",
    "def plot_val_with_title(idxs, title):\n",
    "    imgs = [load_img_id(data.val_ds,x) for x in idxs]\n",
    "    title_probs = [probs[x] for x in idxs]\n",
    "    print(title)\n",
    "    return plots(imgs, rows=1, titles=title_probs, figsize=(16,8))"
   ]
  },
  {
   "cell_type": "code",
   "execution_count": 0,
   "metadata": {
    "colab": {},
    "colab_type": "code",
    "id": "_9SYmNw5Zir0"
   },
   "outputs": [],
   "source": [
    "# 1. A few correct labels at random\n",
    "plot_val_with_title(rand_by_correct(True), \"Correctly classified\")"
   ]
  },
  {
   "cell_type": "code",
   "execution_count": 0,
   "metadata": {
    "colab": {},
    "colab_type": "code",
    "id": "k968LFRPZlXA"
   },
   "outputs": [],
   "source": [
    "# 2. A few incorrect labels at random\n",
    "plot_val_with_title(rand_by_correct(False), \"Incorrectly classified\")"
   ]
  },
  {
   "cell_type": "code",
   "execution_count": 0,
   "metadata": {
    "colab": {},
    "colab_type": "code",
    "id": "b7LzGBFaZU5T"
   },
   "outputs": [],
   "source": [
    "# 3. A few no accident labels at random\n",
    "most_by_correct_no_accident = np.argsort(np.abs(probs -1))[:4]\n",
    "plot_val_with_title(most_by_correct_no_accident, \"No accidents\")"
   ]
  },
  {
   "cell_type": "code",
   "execution_count": 0,
   "metadata": {
    "colab": {},
    "colab_type": "code",
    "id": "lZvX7u9XZyJH"
   },
   "outputs": [],
   "source": [
    "# 4. A few accident labels at random\n",
    "most_by_correct_accident = np.argsort(np.abs(probs -0))[:4]\n",
    "plot_val_with_title(most_by_correct_accident, \"accidents\")"
   ]
  },
  {
   "cell_type": "code",
   "execution_count": 0,
   "metadata": {
    "colab": {},
    "colab_type": "code",
    "id": "h_pmKTLtnlSW"
   },
   "outputs": [],
   "source": [
    "# 5. A few uncertain labels at random\n",
    "most_uncertain = np.argsort(np.abs(probs -0.5))[:4]\n",
    "plot_val_with_title(most_uncertain, \"Most uncertain predictions\")"
   ]
  },
  {
   "cell_type": "code",
   "execution_count": 0,
   "metadata": {
    "colab": {},
    "colab_type": "code",
    "id": "0nRB8u95nmc-"
   },
   "outputs": [],
   "source": [
    "learn = ConvLearner.pretrained(arch, data, precompute=True)"
   ]
  },
  {
   "cell_type": "code",
   "execution_count": 0,
   "metadata": {
    "colab": {},
    "colab_type": "code",
    "id": "FxQ52v7lnzAO"
   },
   "outputs": [],
   "source": [
    "lrf=learn.lr_find()"
   ]
  },
  {
   "cell_type": "code",
   "execution_count": 0,
   "metadata": {
    "colab": {},
    "colab_type": "code",
    "id": "I1-kQZUFn1rs"
   },
   "outputs": [],
   "source": [
    "learn.sched.plot_lr()"
   ]
  },
  {
   "cell_type": "code",
   "execution_count": 0,
   "metadata": {
    "colab": {},
    "colab_type": "code",
    "id": "_MqDdtFDn4Gy"
   },
   "outputs": [],
   "source": [
    "learn.sched.plot()"
   ]
  },
  {
   "cell_type": "markdown",
   "metadata": {
    "colab_type": "text",
    "id": "gD8NyYXSoCCK"
   },
   "source": [
    "## Analyzing results: loss and accuracy"
   ]
  },
  {
   "cell_type": "code",
   "execution_count": 0,
   "metadata": {
    "colab": {},
    "colab_type": "code",
    "id": "qDV7O4nBn8t0"
   },
   "outputs": [],
   "source": [
    "def binary_loss(y, p):\n",
    "    return np.mean(-(y * np.log(p) + (1-y)*np.log(1-p)))"
   ]
  },
  {
   "cell_type": "code",
   "execution_count": 0,
   "metadata": {
    "colab": {},
    "colab_type": "code",
    "id": "EtNQ7UvtoJIg"
   },
   "outputs": [],
   "source": [
    "acts = np.array([1, 0, 0, 1])\n",
    "preds = np.array([0.9, 0.1, 0.2, 0.8])\n",
    "binary_loss(acts, preds)"
   ]
  }
 ],
 "metadata": {
  "accelerator": "GPU",
  "colab": {
   "collapsed_sections": [
    "dZ4hXXSQPEFh",
    "z1cwXZWXfJ3y",
    "D10eOV4wPnZP",
    "NCfhpvFj9MVS",
    "6pjCRDpOhGLk",
    "JfzW_sWmp39e",
    "ePZgf0VW2weC",
    "RgF4WQC9qtvo",
    "kzOtCDUzX6Aa",
    "HfakcuIMrHXy",
    "P787R4Wj5gve",
    "Fqe2HRtyyoCg",
    "G4q8BO1oXi9f",
    "Xu8zvCO4Hx9n",
    "0n_coMJHvX8i",
    "V489D1fOveaC",
    "mgMfqf-CwFnj",
    "N_RRHvTH3vgw",
    "gkokJ2EXYSfi",
    "bI48GlDZYYjg",
    "gD8NyYXSoCCK"
   ],
   "name": "3_Model_Train.ipynb",
   "provenance": [],
   "version": "0.3.2"
  },
  "kernelspec": {
   "display_name": "Python 3",
   "language": "python",
   "name": "python3"
  }
 },
 "nbformat": 4,
 "nbformat_minor": 1
}
